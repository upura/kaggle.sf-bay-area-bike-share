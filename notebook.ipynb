{
  "cells": [
    {
      "metadata": {
        "_cell_guid": "72a0e2d8-62b4-9949-8fba-b2d1661baa70",
        "_uuid": "2cc000aae78b3965ddb93c92537e05a77f9b1ab9"
      },
      "cell_type": "markdown",
      "source": "# How to Get Business Insight from Data?\n## Proposal of Promoting Sightseeing in Weekend for Specific Station Users with Latent Demand\n\nThis is an attempt to get business insight from data.   \nThis analysis is inspired by the following kernel.  \nhttps://www.kaggle.com/parryfg/time-based-data-exploration\n\nSlide version can be seen [here](https://speakerdeck.com/upura/how-to-get-business-insight-from-data-proposal-for-promoting-sightseeing-in-weekend-for-specific-station-users-with-latent-demand)."
    },
    {
      "metadata": {
        "_cell_guid": "e3c84462-2da0-bd1b-3626-54e177a85bb0",
        "_uuid": "f4c4529b6f542eebf570360a4d7093a2556f2f9e"
      },
      "cell_type": "markdown",
      "source": "# Key Messages\n1. Focus on measures to increase weekend's trips\n1. There are some target stations with latent demand\n1. Promoting sightseeing for specific station users can be a good measures for further growth"
    },
    {
      "metadata": {
        "_cell_guid": "5dd1578f-3241-1c6c-f87f-a893c0655ff1",
        "_uuid": "b14057da2e4d19ee5e564a0077a77f6101f462ae"
      },
      "cell_type": "markdown",
      "source": "# Table of Contents\n1. Survey of current situation\n1. How to increase the weekend’s trips\n1. Measures & assumed effects\n1. Conclusion"
    },
    {
      "metadata": {
        "_uuid": "cf0bfcde19a9e2ead83a5314ddffd072f45537d1"
      },
      "cell_type": "markdown",
      "source": "# 1) Survey of current situation\n## Steady Business Growth\n<img src='https://www.kaggleusercontent.com/kf/331766/eyJhbGciOiJkaXIiLCJlbmMiOiJBMTI4Q0JDLUhTMjU2In0..BZz2_2qI8ZjBYXTvh9cFnA.kLHn9WvR_SIFp0F5y9X5dcSrbRwKZpadmoV3l1MlUzpQC9sJO5MdYrsQzI6pjv6IPuWzslbyHl7VIlmRDdxDUgOJiEben_zsmsEZahL0-1Jy_Pf0SEnLEAcKGaSYWwNER4Z4MkcFgIdOE5u-SBTXXA.1U_yX2aQWMpqXzEOoPjlhA/__results___files/__results___5_1.png'>"
    },
    {
      "metadata": {
        "_uuid": "32b1da85e748e61bdacdc0ed04057d07a3614223"
      },
      "cell_type": "markdown",
      "source": "## Potential for growth in Weekend\n<img src='https://www.kaggleusercontent.com/kf/331766/eyJhbGciOiJkaXIiLCJlbmMiOiJBMTI4Q0JDLUhTMjU2In0..BZz2_2qI8ZjBYXTvh9cFnA.kLHn9WvR_SIFp0F5y9X5dcSrbRwKZpadmoV3l1MlUzpQC9sJO5MdYrsQzI6pjv6IPuWzslbyHl7VIlmRDdxDUgOJiEben_zsmsEZahL0-1Jy_Pf0SEnLEAcKGaSYWwNER4Z4MkcFgIdOE5u-SBTXXA.1U_yX2aQWMpqXzEOoPjlhA/__results___files/__results___14_1.png'>"
    },
    {
      "metadata": {
        "_uuid": "625180b6d8408cb673f0161d737d8629cb3cf8e7"
      },
      "cell_type": "markdown",
      "source": "## More Customers than Weekday\n### Assumed Objective\n- Weekday -> Commuting\n- Weekend -> Sightseeing\n<img src='https://www.kaggleusercontent.com/kf/331766/eyJhbGciOiJkaXIiLCJlbmMiOiJBMTI4Q0JDLUhTMjU2In0..BZz2_2qI8ZjBYXTvh9cFnA.kLHn9WvR_SIFp0F5y9X5dcSrbRwKZpadmoV3l1MlUzpQC9sJO5MdYrsQzI6pjv6IPuWzslbyHl7VIlmRDdxDUgOJiEben_zsmsEZahL0-1Jy_Pf0SEnLEAcKGaSYWwNER4Z4MkcFgIdOE5u-SBTXXA.1U_yX2aQWMpqXzEOoPjlhA/__results___files/__results___25_1.png'>"
    },
    {
      "metadata": {
        "_uuid": "ea4c640c9d5a10cfac36ad6ba93ffede93899e4d"
      },
      "cell_type": "markdown",
      "source": "## Different Time Trend from Weekday\nNumber of trips by the time of the day: total trips vs. weekend trips    \n(See https://www.kaggle.com/ievgenii1101/analyzing-duration-of-the-trips)\n\n<img src='https://www.kaggleusercontent.com/kf/649538/eyJhbGciOiJkaXIiLCJlbmMiOiJBMTI4Q0JDLUhTMjU2In0..8UrT8IEYeqXH4Rnq63a2ew.Jo0usrHrk_wZBDnteCiJwE5ty2yzfV7fZtgZB_o7bUs9rvZl2qzRXrhcT_GKrfTeznApH43IAYzzWKTZDkkSlHurWS5qsUrMsmLQ90Hl6flcJTCgb0HXHkiHfhW7uo_DrAL_Wk2aknbCgM95o6H4hA.H_iDhO3YpoSNjc82FWvfaQ/__results___files/__results___21_0.png'>"
    },
    {
      "metadata": {
        "_uuid": "cbb814efdbeac54314e24532e6038102b470f697"
      },
      "cell_type": "markdown",
      "source": "## So, we should be focus on measures to increase weekend's trips"
    },
    {
      "metadata": {
        "_uuid": "5808d26590074b01560439a6b4d394d182e97176"
      },
      "cell_type": "markdown",
      "source": "# 2) How to increase the weekend’s trips"
    },
    {
      "metadata": {
        "_uuid": "cfbf99addfb79fa94f5ad513f5af052d34aba1b5"
      },
      "cell_type": "markdown",
      "source": "### Hypothesis for Strategy\n“Most subscribers (mainly use this service in weekday) don’t use this service in weekend”\n- To prove above, we investigate how many times each station used both in weekday and weekend\n- If we find stations don’t used relatively in weekend, users at the stations can be a main target to promote sightseeing (by some way, like coupons)"
    },
    {
      "metadata": {
        "_uuid": "653ed44f83c9e062af9089d544762b63b54b80a9"
      },
      "cell_type": "markdown",
      "source": "## There are some target stations (Right & lower side)"
    },
    {
      "metadata": {
        "trusted": true,
        "_uuid": "9d773e6cf9c753970a26a1a2954da052184a2afc"
      },
      "cell_type": "code",
      "source": "df <- read.csv(\"../input/df-for-visualization/df.csv\")\nlibrary(ggplot2)\nlibrary(\"ggrepel\")\n\ng <- ggplot(\n  df,\n  aes (\n    x = df[,2],\n    y = df[,3],\n    label = df[,1]\n  )\n)\n\ng <- g +  geom_point(\n  size = 1,\n  col = \"blue\"\n)\n\ng <- g + geom_text_repel(\n  size = 3\n)\ng <- g + xlab(\"Weekday's Trips\")\ng <- g + ylab(\"Weekday's Trips\")\n\nplot(g)",
      "execution_count": 3,
      "outputs": []
    },
    {
      "metadata": {
        "trusted": true,
        "_uuid": "077912f1589399e433903442fc3dc7b88bd7f392"
      },
      "cell_type": "markdown",
      "source": "## These are the target stations to promote sightseeing\n\n| Station Name | Weekday’s Trip | Weekend’s Trip | Rate |\n|:-----------|------------:|:------------:|\n| Temporary Transbay Terminal (Howard at Beale) | 25600 | 1005 | 0.037775 | \n| San Jose Government Center | 23 | 1 | 0.041667 |\n| Stanford in Redwood City | 430 | 20 | 0.044444 |\n| Redwood City Medical Center | 304 | 17 | 0.052960 |\n| San Francisco Caltrain (Townsend at 4th) | 47781 | 2858 | 0.056439 |\n| San Francisco Caltrain 2 (330 Townsend) | 32835 | 2036 | 0.058387 |"
    },
    {
      "metadata": {
        "_uuid": "cc25c37d850c52546103ed697e275f946a86348f"
      },
      "cell_type": "markdown",
      "source": "# 3) Measures & assumed effects"
    },
    {
      "metadata": {
        "trusted": true,
        "_uuid": "3274086ab211398a5eeefdebf49a15307a355412"
      },
      "cell_type": "markdown",
      "source": "## Measures\nPromoting sightseeing for specific station users\u000b(many weekday users, less weekend users)\n- Like coupons, advertisements\n\nIf there are further information about trips with user_id\n- Promotion can be more personalized, by using recommendation algorithm"
    },
    {
      "metadata": {
        "trusted": true,
        "_uuid": "6fb4414fc25fa5e4754e380d695a752614478a45"
      },
      "cell_type": "markdown",
      "source": "## Assumed Effects\nBy promoting sightseeing for users with latent demand,\n1. Increase on weekend’s trips (Customers↑)\n1. Improvement of subscribers' satisfaction by enlightening new usage on weekends\n  - Annual subscribers would be increased\n  - “3 day plan” is not proper considering in order to enjoy weekend -> “1 week plan” is better"
    },
    {
      "metadata": {
        "trusted": true,
        "_uuid": "0d40099e2b8e603410a9fb32b96ff89a964a6c8c"
      },
      "cell_type": "markdown",
      "source": "# 4) Conclusion\nThrough survey and analysis, promoting sightseeing for specific station users are found to be a good measures for further growth\n- Focus on measures to increase weekend's trips\n- There are some target stations with latent demand"
    },
    {
      "metadata": {
        "trusted": true,
        "_uuid": "226ac0abe713c39a4c8451391782cdce78b7148c"
      },
      "cell_type": "code",
      "source": "",
      "execution_count": null,
      "outputs": []
    }
  ],
  "metadata": {
    "_change_revision": 0,
    "_is_fork": false,
    "kernelspec": {
      "display_name": "R",
      "language": "R",
      "name": "ir"
    },
    "language_info": {
      "mimetype": "text/x-r-source",
      "name": "R",
      "pygments_lexer": "r",
      "version": "3.4.2",
      "file_extension": ".r",
      "codemirror_mode": "r"
    }
  },
  "nbformat": 4,
  "nbformat_minor": 1
}